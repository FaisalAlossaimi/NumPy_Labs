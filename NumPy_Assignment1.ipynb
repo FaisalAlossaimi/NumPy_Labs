{
 "cells": [
  {
   "cell_type": "code",
   "execution_count": null,
   "id": "212fd1ba",
   "metadata": {},
   "outputs": [],
   "source": [
    "import numpy as np"
   ]
  },
  {
   "cell_type": "markdown",
   "id": "10803eb0",
   "metadata": {},
   "source": [
    "## Q#1: Create x array with elements equal to 1."
   ]
  },
  {
   "cell_type": "code",
   "execution_count": 32,
   "id": "3307454f",
   "metadata": {},
   "outputs": [
    {
     "name": "stdout",
     "output_type": "stream",
     "text": [
      "[1. 1. 1. 1. 1. 1. 1. 1. 1. 1.]\n"
     ]
    }
   ],
   "source": [
    "# write your code here ^_^\n",
    "\n",
    "x = np.ones(array_size)\n",
    "print (x)"
   ]
  },
  {
   "cell_type": "markdown",
   "id": "7795306d",
   "metadata": {},
   "source": [
    "## Q#2: Create y array with elements equal to 0."
   ]
  },
  {
   "cell_type": "code",
   "execution_count": 31,
   "id": "9550b063",
   "metadata": {},
   "outputs": [
    {
     "name": "stdout",
     "output_type": "stream",
     "text": [
      "[0. 0. 0. 0. 0. 0. 0. 0. 0. 0.]\n"
     ]
    }
   ],
   "source": [
    "# write your code here ^_^\n",
    "\n",
    "y = np.zeros(array_size)\n",
    "print (y)"
   ]
  },
  {
   "cell_type": "markdown",
   "id": "cde6a939",
   "metadata": {},
   "source": [
    "## Q#3: Add x and y arrays."
   ]
  },
  {
   "cell_type": "code",
   "execution_count": 30,
   "id": "71070d1d",
   "metadata": {},
   "outputs": [
    {
     "name": "stdout",
     "output_type": "stream",
     "text": [
      "[1. 1. 1. 1. 1. 1. 1. 1. 1. 1.]\n"
     ]
    }
   ],
   "source": [
    "# write your code here ^_^\n",
    "\n",
    "x = np.ones(array_size)\n",
    "\n",
    "y = np.zeros(array_size)\n",
    "result = x + y\n",
    "print(result)"
   ]
  },
  {
   "cell_type": "markdown",
   "id": "ed854f4c",
   "metadata": {},
   "source": [
    "## Q#4: Print x array characteristics (e.g: dimension, shape, size, type)."
   ]
  },
  {
   "cell_type": "code",
   "execution_count": 29,
   "id": "32627c83",
   "metadata": {},
   "outputs": [
    {
     "name": "stdout",
     "output_type": "stream",
     "text": [
      "Dimension of x array: 1\n",
      "Shape of x array: (10,)\n",
      "Size of x array: 10\n",
      "Data type of x array: float64\n"
     ]
    }
   ],
   "source": [
    "# write your code here ^_^\n",
    "\n",
    "\n",
    "x = np.ones(array_size)\n",
    "print(\"Dimension of x array:\", x.ndim)\n",
    "print(\"Shape of x array:\", x.shape)\n",
    "print(\"Size of x array:\", x.size)\n",
    "print(\"Data type of x array:\", x.dtype)\n"
   ]
  },
  {
   "cell_type": "markdown",
   "id": "dbd46a73",
   "metadata": {},
   "source": [
    "## Q#5: Create a 2D array \"called w\" as the following:\n",
    "\n",
    "|       |          |\n",
    "| ----- | -------- |\n",
    "| 11    | 12       |\n",
    "| 13    | 14       |\n",
    "| 15    | 16       |\n"
   ]
  },
  {
   "cell_type": "code",
   "execution_count": 23,
   "id": "b9c7bbb0",
   "metadata": {},
   "outputs": [
    {
     "name": "stdout",
     "output_type": "stream",
     "text": [
      "[[11 12]\n",
      " [13 14]\n",
      " [15 16]]\n"
     ]
    }
   ],
   "source": [
    "# write your code here ^_^\n",
    "\n",
    "\n",
    "w = np.array([[11, 12], [13, 14], [15, 16]])\n",
    "print(w)"
   ]
  },
  {
   "cell_type": "markdown",
   "id": "0e62bd09",
   "metadata": {},
   "source": [
    "## Q#6: Create z array contains the numbers from 1 to 3."
   ]
  },
  {
   "cell_type": "code",
   "execution_count": 13,
   "id": "cee8aba0",
   "metadata": {},
   "outputs": [
    {
     "name": "stdout",
     "output_type": "stream",
     "text": [
      "[1 2 3]\n"
     ]
    }
   ],
   "source": [
    "# write your code here ^_^\n",
    "\n",
    "\n",
    "z = np.array([1, 2, 3])\n",
    "print(z)"
   ]
  },
  {
   "cell_type": "markdown",
   "id": "32b00711",
   "metadata": {},
   "source": [
    "## Q#7: Combine the arrays z and w in horizontal way then save it in a new variable \"newArray\"."
   ]
  },
  {
   "cell_type": "code",
   "execution_count": 12,
   "id": "d218f892",
   "metadata": {},
   "outputs": [
    {
     "name": "stdout",
     "output_type": "stream",
     "text": [
      "[[ 1 11 12]\n",
      " [ 2 13 14]\n",
      " [ 3 15 16]]\n"
     ]
    }
   ],
   "source": [
    "# write your code here ^_^\n",
    "\n",
    "\n",
    "z = np.array([1, 2, 3])\n",
    "w = np.array([[11, 12],\n",
    "              [13, 14],\n",
    "              [15, 16]])\n",
    "\n",
    "newArray = np.hstack((z[:, np.newaxis], w))\n",
    "\n",
    "print(newArray)\n",
    "\n"
   ]
  },
  {
   "cell_type": "markdown",
   "id": "7e009910",
   "metadata": {},
   "source": [
    "## Q#8: Print all elements of \"newArray\" using the loop."
   ]
  },
  {
   "cell_type": "code",
   "execution_count": 11,
   "id": "abbed923",
   "metadata": {},
   "outputs": [
    {
     "name": "stdout",
     "output_type": "stream",
     "text": [
      "1 11 12 \n",
      "2 13 14 \n",
      "3 15 16 \n"
     ]
    }
   ],
   "source": [
    "# write your code here ^_^\n",
    "\n",
    "\n",
    "z = np.array([1, 2, 3])\n",
    "w = np.array([[11, 12],\n",
    "              [13, 14],\n",
    "              [15, 16]])\n",
    "\n",
    "newArray = np.hstack((z[:, np.newaxis], w))\n",
    "\n",
    "for row in newArray:\n",
    "    for element in row:\n",
    "        print(element, end=' ')\n",
    "    print()\n"
   ]
  },
  {
   "cell_type": "markdown",
   "id": "011c6d2d",
   "metadata": {},
   "source": [
    "## Q#9: Reverse the columns and rows of \"newArray\"."
   ]
  },
  {
   "cell_type": "code",
   "execution_count": 10,
   "id": "12e3f0db",
   "metadata": {},
   "outputs": [
    {
     "name": "stdout",
     "output_type": "stream",
     "text": [
      "[[16 15  3]\n",
      " [14 13  2]\n",
      " [12 11  1]]\n"
     ]
    }
   ],
   "source": [
    "# write your code here ^_^\n",
    "\n",
    "\n",
    "z = np.array([1, 2, 3])\n",
    "w = np.array([[11, 12],\n",
    "              [13, 14],\n",
    "              [15, 16]])\n",
    "\n",
    "newArray = np.hstack((z[:, np.newaxis], w))\n",
    "\n",
    "reversedArray = np.flip(newArray, axis=0)\n",
    "reversedArray = np.flip(reversedArray, axis=1)\n",
    "\n",
    "print(reversedArray)\n"
   ]
  },
  {
   "cell_type": "markdown",
   "id": "f40b57c3",
   "metadata": {},
   "source": [
    "## Q#10: Decrement all elements of \"newArray\" with 1."
   ]
  },
  {
   "cell_type": "code",
   "execution_count": 9,
   "id": "aea004df",
   "metadata": {},
   "outputs": [
    {
     "name": "stdout",
     "output_type": "stream",
     "text": [
      "[[ 0 10 11]\n",
      " [ 1 12 13]\n",
      " [ 2 14 15]]\n"
     ]
    }
   ],
   "source": [
    "# write your code here ^_^\n",
    "\n",
    "\n",
    "z = np.array([1, 2, 3])\n",
    "w = np.array([[11, 12],\n",
    "              [13, 14],\n",
    "              [15, 16]])\n",
    "\n",
    "newArray = np.hstack((z[:, np.newaxis], w))\n",
    "\n",
    "newArray -= 1\n",
    "\n",
    "print(newArray)\n"
   ]
  },
  {
   "cell_type": "markdown",
   "id": "8901e8be",
   "metadata": {},
   "source": [
    "## Q#11: Find smallest and biggest values in \"newArray\"."
   ]
  },
  {
   "cell_type": "code",
   "execution_count": 8,
   "id": "4ea08613",
   "metadata": {},
   "outputs": [
    {
     "name": "stdout",
     "output_type": "stream",
     "text": [
      "Smallest : 1\n",
      "Largest : 16\n"
     ]
    }
   ],
   "source": [
    "# write your code here ^_^\n",
    "\n",
    "\n",
    "z = np.array([1, 2, 3])\n",
    "w = np.array([[11, 12],\n",
    "              [13, 14],\n",
    "              [15, 16]])\n",
    "\n",
    "newArray = np.hstack((z[:, np.newaxis], w))\n",
    "\n",
    "smallest = np.min(newArray)\n",
    "largest = np.max(newArray)\n",
    "\n",
    "print(\"Smallest :\", smallest)\n",
    "print(\"Largest :\", largest)\n"
   ]
  },
  {
   "cell_type": "markdown",
   "id": "c5d5d4ca",
   "metadata": {},
   "source": [
    "## Q#12: Print the first row of \"newArray\" using indexing."
   ]
  },
  {
   "cell_type": "code",
   "execution_count": 7,
   "id": "73e3b5a5",
   "metadata": {},
   "outputs": [
    {
     "name": "stdout",
     "output_type": "stream",
     "text": [
      "First row of newArray: [ 1 11 12]\n"
     ]
    }
   ],
   "source": [
    "# write your code here ^_^\n",
    "\n",
    "\n",
    "z = np.array([1, 2, 3])\n",
    "w = np.array([[11, 12],\n",
    "              [13, 14],\n",
    "              [15, 16]])\n",
    "\n",
    "newArray = np.hstack((z[:, np.newaxis], w))\n",
    "\n",
    "first_row = newArray[0]\n",
    "\n",
    "print(\"First row of newArray:\", first_row)\n"
   ]
  },
  {
   "cell_type": "markdown",
   "id": "78f4d6c1",
   "metadata": {},
   "source": [
    "## Q#13: Print the number equals 12 of \"newArray\" using indexing."
   ]
  },
  {
   "cell_type": "code",
   "execution_count": 6,
   "id": "7ad660b7",
   "metadata": {},
   "outputs": [
    {
     "name": "stdout",
     "output_type": "stream",
     "text": [
      "Number equals 12: 12\n"
     ]
    }
   ],
   "source": [
    "# write your code here ^_^\n",
    "\n",
    "\n",
    "z = np.array([1, 2, 3])\n",
    "w = np.array([[11, 12],\n",
    "              [13, 14],\n",
    "              [15, 16]])\n",
    "\n",
    "newArray = np.hstack((z[:, np.newaxis], w))\n",
    "\n",
    "number_12_index = np.where(newArray == 12)\n",
    "number_12 = newArray[number_12_index]\n",
    "\n",
    "print(\"Number equals 12:\", number_12[0])\n"
   ]
  },
  {
   "cell_type": "markdown",
   "id": "932b5c3d",
   "metadata": {},
   "source": [
    "## Q#14: Print the numbers equal 0 and 13 of \"newArray\" using indexing."
   ]
  },
  {
   "cell_type": "code",
   "execution_count": 5,
   "id": "31fb5fd0",
   "metadata": {},
   "outputs": [
    {
     "name": "stdout",
     "output_type": "stream",
     "text": [
      "Numbers equal to 0: []\n",
      "Numbers equal to 13: [13]\n"
     ]
    }
   ],
   "source": [
    "# write your code here ^_^\n",
    "# write your code here ^_^\n",
    "\n",
    "\n",
    "z = np.array([1, 2, 3])\n",
    "w = np.array([[11, 12],\n",
    "              [13, 14],\n",
    "              [15, 16]])\n",
    "\n",
    "newArray = np.hstack((z[:, np.newaxis], w))\n",
    "\n",
    "indices_0 = np.where(newArray == 0)\n",
    "indices_13 = np.where(newArray == 13)\n",
    "\n",
    "numbers_0 = newArray[indices_0]\n",
    "numbers_13 = newArray[indices_13]\n",
    "\n",
    "print(\"Numbers equal to 0:\", numbers_0)\n",
    "print(\"Numbers equal to 13:\", numbers_13)\n"
   ]
  },
  {
   "cell_type": "markdown",
   "id": "27e0f68e",
   "metadata": {},
   "source": [
    "## Q#15: Change the shape of \"newArray\" to (9,1)."
   ]
  },
  {
   "cell_type": "code",
   "execution_count": 3,
   "id": "35f224ad",
   "metadata": {},
   "outputs": [
    {
     "name": "stdout",
     "output_type": "stream",
     "text": [
      "[[ 1]\n",
      " [11]\n",
      " [12]\n",
      " [ 2]\n",
      " [13]\n",
      " [14]\n",
      " [ 3]\n",
      " [15]\n",
      " [16]]\n"
     ]
    }
   ],
   "source": [
    "# write your code here ^_^\n",
    "\n",
    "\n",
    "z = np.array([1, 2, 3])\n",
    "w = np.array([[11, 12],\n",
    "              [13, 14],\n",
    "              [15, 16]])\n",
    "\n",
    "newArray = np.hstack((z[:, np.newaxis], w))\n",
    "\n",
    "newArray_reshaped = newArray.reshape((9, 1))\n",
    "\n",
    "print(newArray_reshaped)\n"
   ]
  },
  {
   "cell_type": "markdown",
   "id": "e6d104c5",
   "metadata": {},
   "source": [
    "## Q#16: Change the shape of \"newArray\" to (3,3)."
   ]
  },
  {
   "cell_type": "code",
   "execution_count": 4,
   "id": "724d51d5",
   "metadata": {},
   "outputs": [
    {
     "name": "stdout",
     "output_type": "stream",
     "text": [
      "[[ 1 11 12]\n",
      " [ 2 13 14]\n",
      " [ 3 15 16]]\n"
     ]
    }
   ],
   "source": [
    "# write your code here ^_^\n",
    "\n",
    "\n",
    "z = np.array([1, 2, 3])\n",
    "w = np.array([[11, 12],\n",
    "              [13, 14],\n",
    "              [15, 16]])\n",
    "\n",
    "newArray = np.hstack((z[:, np.newaxis], w))\n",
    "\n",
    "newArray_reshaped = newArray.reshape((3, 3))\n",
    "\n",
    "print(newArray_reshaped)\n"
   ]
  },
  {
   "cell_type": "markdown",
   "id": "09567fdc",
   "metadata": {},
   "source": [
    "# Well Done 🎉"
   ]
  }
 ],
 "metadata": {
  "kernelspec": {
   "display_name": "Python 3 (ipykernel)",
   "language": "python",
   "name": "python3"
  },
  "language_info": {
   "codemirror_mode": {
    "name": "ipython",
    "version": 3
   },
   "file_extension": ".py",
   "mimetype": "text/x-python",
   "name": "python",
   "nbconvert_exporter": "python",
   "pygments_lexer": "ipython3",
   "version": "3.11.9"
  }
 },
 "nbformat": 4,
 "nbformat_minor": 5
}
